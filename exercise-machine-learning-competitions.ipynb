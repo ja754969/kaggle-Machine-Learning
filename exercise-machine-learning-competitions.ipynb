{
 "cells": [
  {
   "cell_type": "markdown",
   "id": "902d377a",
   "metadata": {
    "papermill": {
     "duration": 0.011856,
     "end_time": "2021-08-13T14:41:03.761282",
     "exception": false,
     "start_time": "2021-08-13T14:41:03.749426",
     "status": "completed"
    },
    "tags": []
   },
   "source": [
    "**This notebook is an exercise in the [Introduction to Machine Learning](https://www.kaggle.com/learn/intro-to-machine-learning) course.  You can reference the tutorial at [this link](https://www.kaggle.com/alexisbcook/machine-learning-competitions).**\n",
    "\n",
    "---\n"
   ]
  },
  {
   "cell_type": "code",
   "execution_count": 5,
   "id": "985a5f4d",
   "metadata": {},
   "outputs": [],
   "source": [
    "# terminal setting\n",
    "## conda env list\n",
    "## conda create -n OC python python=3.6\n",
    "## conda activate OC\n",
    "## conda install list\n",
    "## conda install pandas\n",
    "## conda install sklearn\n",
    "## conda install os\n",
    "## cd E:\\git-repos\\kaggle-Machine-Learning\n",
    "## jupyter notebook"
   ]
  },
  {
   "cell_type": "markdown",
   "id": "4570c965",
   "metadata": {
    "papermill": {
     "duration": 0.010388,
     "end_time": "2021-08-13T14:41:03.784755",
     "exception": false,
     "start_time": "2021-08-13T14:41:03.774367",
     "status": "completed"
    },
    "tags": []
   },
   "source": [
    "# Introduction\n",
    "\n",
    "In this exercise, you will create and submit predictions for a Kaggle competition. You can then improve your model (e.g. by adding features) to apply what you've learned and move up the leaderboard.\n",
    "\n",
    "Begin by running the code cell below to set up code checking and the filepaths for the dataset."
   ]
  },
  {
   "cell_type": "code",
   "execution_count": 15,
   "id": "fbc53c4c",
   "metadata": {
    "execution": {
     "iopub.execute_input": "2021-08-13T14:41:03.821144Z",
     "iopub.status.busy": "2021-08-13T14:41:03.820489Z",
     "iopub.status.idle": "2021-08-13T14:41:03.863763Z",
     "shell.execute_reply": "2021-08-13T14:41:03.863030Z",
     "shell.execute_reply.started": "2021-08-13T14:20:10.623586Z"
    },
    "papermill": {
     "duration": 0.068542,
     "end_time": "2021-08-13T14:41:03.863983",
     "exception": false,
     "start_time": "2021-08-13T14:41:03.795441",
     "status": "completed"
    },
    "tags": []
   },
   "outputs": [],
   "source": [
    "# Set up filepaths\n",
    "import os\n",
    "if not os.path.exists(\"input/train.csv\"):\n",
    "    os.symlink(\"input/home-data-for-ml-course/train.csv\", \"input/train.csv\")  \n",
    "    os.symlink(\"input/home-data-for-ml-course/test.csv\", \"input/test.csv\") "
   ]
  },
  {
   "cell_type": "markdown",
   "id": "0fcdded9",
   "metadata": {
    "papermill": {
     "duration": 0.010283,
     "end_time": "2021-08-13T14:41:03.884979",
     "exception": false,
     "start_time": "2021-08-13T14:41:03.874696",
     "status": "completed"
    },
    "tags": []
   },
   "source": [
    "Here's some of the code you've written so far. Start by running it again."
   ]
  },
  {
   "cell_type": "code",
   "execution_count": 16,
   "id": "af94acaf",
   "metadata": {
    "execution": {
     "iopub.execute_input": "2021-08-13T14:41:04.006683Z",
     "iopub.status.busy": "2021-08-13T14:41:04.005977Z",
     "iopub.status.idle": "2021-08-13T14:41:05.797356Z",
     "shell.execute_reply": "2021-08-13T14:41:05.796300Z",
     "shell.execute_reply.started": "2021-08-13T14:20:23.914085Z"
    },
    "papermill": {
     "duration": 1.901958,
     "end_time": "2021-08-13T14:41:05.797521",
     "exception": false,
     "start_time": "2021-08-13T14:41:03.895563",
     "status": "completed"
    },
    "tags": []
   },
   "outputs": [
    {
     "name": "stdout",
     "output_type": "stream",
     "text": [
      "Validation MAE for Random Forest Model: 21,857\n"
     ]
    }
   ],
   "source": [
    "# Import helpful libraries\n",
    "import pandas as pd\n",
    "from sklearn.ensemble import RandomForestRegressor\n",
    "from sklearn.metrics import mean_absolute_error\n",
    "from sklearn.model_selection import train_test_split\n",
    "\n",
    "# Load the data, and separate the target\n",
    "iowa_file_path = 'input/train.csv'\n",
    "home_data = pd.read_csv(iowa_file_path)\n",
    "y = home_data.SalePrice\n",
    "\n",
    "# Create X (After completing the exercise, you can return to modify this line!)\n",
    "features = ['LotArea', 'YearBuilt', '1stFlrSF', '2ndFlrSF', 'FullBath', 'BedroomAbvGr', 'TotRmsAbvGrd']\n",
    "\n",
    "# Select columns corresponding to features, and preview the data\n",
    "X = home_data[features]\n",
    "X.head()\n",
    "\n",
    "# Split into validation and training data\n",
    "train_X, val_X, train_y, val_y = train_test_split(X, y, random_state=1)\n",
    "\n",
    "# Define a random forest model\n",
    "rf_model = RandomForestRegressor(random_state=1)\n",
    "rf_model.fit(train_X, train_y)\n",
    "rf_val_predictions = rf_model.predict(val_X)\n",
    "rf_val_mae = mean_absolute_error(rf_val_predictions, val_y)\n",
    "\n",
    "print(\"Validation MAE for Random Forest Model: {:,.0f}\".format(rf_val_mae))"
   ]
  },
  {
   "cell_type": "markdown",
   "id": "86e2e5d0",
   "metadata": {
    "papermill": {
     "duration": 0.010762,
     "end_time": "2021-08-13T14:41:05.820259",
     "exception": false,
     "start_time": "2021-08-13T14:41:05.809497",
     "status": "completed"
    },
    "tags": []
   },
   "source": [
    "# Train a model for the competition\n",
    "\n",
    "The code cell above trains a Random Forest model on **`train_X`** and **`train_y`**.  \n",
    "\n",
    "Use the code cell below to build a Random Forest model and train it on all of **`X`** and **`y`**."
   ]
  },
  {
   "cell_type": "code",
   "execution_count": 18,
   "id": "32b15e29",
   "metadata": {
    "execution": {
     "iopub.execute_input": "2021-08-13T14:41:05.877080Z",
     "iopub.status.busy": "2021-08-13T14:41:05.861269Z",
     "iopub.status.idle": "2021-08-13T14:41:06.493098Z",
     "shell.execute_reply": "2021-08-13T14:41:06.492555Z",
     "shell.execute_reply.started": "2021-08-13T14:24:01.364188Z"
    },
    "papermill": {
     "duration": 0.661179,
     "end_time": "2021-08-13T14:41:06.493244",
     "exception": false,
     "start_time": "2021-08-13T14:41:05.832065",
     "status": "completed"
    },
    "tags": []
   },
   "outputs": [
    {
     "data": {
      "text/plain": [
       "RandomForestRegressor(random_state=1)"
      ]
     },
     "execution_count": 18,
     "metadata": {},
     "output_type": "execute_result"
    }
   ],
   "source": [
    "# To improve accuracy, create a new Random Forest model which you will train on all training data\n",
    "rf_model_on_full_data = RandomForestRegressor(random_state = 1)\n",
    "\n",
    "# fit rf_model_on_full_data on all data from the training data\n",
    "rf_model_on_full_data.fit(X,y)"
   ]
  },
  {
   "cell_type": "markdown",
   "id": "98de9260",
   "metadata": {
    "papermill": {
     "duration": 0.011199,
     "end_time": "2021-08-13T14:41:06.517428",
     "exception": false,
     "start_time": "2021-08-13T14:41:06.506229",
     "status": "completed"
    },
    "tags": []
   },
   "source": [
    "Now, read the file of \"test\" data, and apply your model to make predictions."
   ]
  },
  {
   "cell_type": "code",
   "execution_count": 19,
   "id": "5c6153f6",
   "metadata": {
    "execution": {
     "iopub.execute_input": "2021-08-13T14:41:06.547157Z",
     "iopub.status.busy": "2021-08-13T14:41:06.546388Z",
     "iopub.status.idle": "2021-08-13T14:41:06.623707Z",
     "shell.execute_reply": "2021-08-13T14:41:06.623126Z",
     "shell.execute_reply.started": "2021-08-13T14:27:35.801278Z"
    },
    "papermill": {
     "duration": 0.094195,
     "end_time": "2021-08-13T14:41:06.623863",
     "exception": false,
     "start_time": "2021-08-13T14:41:06.529668",
     "status": "completed"
    },
    "tags": []
   },
   "outputs": [],
   "source": [
    "# path to file you will use for predictions\n",
    "test_data_path = 'input/test.csv'\n",
    "\n",
    "# read test data file using pandas\n",
    "test_data = pd.read_csv(test_data_path)\n",
    "\n",
    "# create test_X which comes from test_data but includes only the columns you used for prediction.\n",
    "# The list of columns is stored in a variable called features\n",
    "test_X = test_data[features]\n",
    "\n",
    "# make predictions which we will submit. \n",
    "test_preds = rf_model_on_full_data.predict(test_X)"
   ]
  },
  {
   "cell_type": "markdown",
   "id": "8406fa59",
   "metadata": {
    "papermill": {
     "duration": 0.011645,
     "end_time": "2021-08-13T14:41:06.647748",
     "exception": false,
     "start_time": "2021-08-13T14:41:06.636103",
     "status": "completed"
    },
    "tags": []
   },
   "source": [
    "Before submitting, run a check to make sure your `test_preds` have the right format."
   ]
  },
  {
   "cell_type": "code",
   "execution_count": 20,
   "id": "052cfcab",
   "metadata": {
    "execution": {
     "iopub.execute_input": "2021-08-13T14:41:06.678195Z",
     "iopub.status.busy": "2021-08-13T14:41:06.677139Z",
     "iopub.status.idle": "2021-08-13T14:41:06.688476Z",
     "shell.execute_reply": "2021-08-13T14:41:06.687783Z",
     "shell.execute_reply.started": "2021-08-13T14:27:50.154098Z"
    },
    "papermill": {
     "duration": 0.028829,
     "end_time": "2021-08-13T14:41:06.688624",
     "exception": false,
     "start_time": "2021-08-13T14:41:06.659795",
     "status": "completed"
    },
    "tags": []
   },
   "outputs": [],
   "source": [
    "##Solution: \n",
    "# ```python\n",
    "\n",
    "# # In previous code cell\n",
    "# rf_model_on_full_data = RandomForestRegressor()\n",
    "# rf_model_on_full_data.fit(X, y)\n",
    "\n",
    "# # Then in last code cell\n",
    "# test_data_path = '../input/home-data-for-ml-course/test.csv'\n",
    "# test_data = pd.read_csv(test_data_path)\n",
    "# test_X = test_data[features]\n",
    "# test_preds = rf_model_on_full_data.predict(test_X)\n",
    "\n",
    "\n",
    "# output = pd.DataFrame({'Id': test_data.Id,\n",
    "#                        'SalePrice': test_preds})\n",
    "# output.to_csv('submission.csv', index=False)\n",
    "\n",
    "# ```"
   ]
  },
  {
   "cell_type": "markdown",
   "id": "da252c84",
   "metadata": {
    "papermill": {
     "duration": 0.013151,
     "end_time": "2021-08-13T14:41:06.715427",
     "exception": false,
     "start_time": "2021-08-13T14:41:06.702276",
     "status": "completed"
    },
    "tags": []
   },
   "source": [
    "# Generate a submission\n",
    "\n",
    "Run the code cell below to generate a CSV file with your predictions that you can use to submit to the competition."
   ]
  },
  {
   "cell_type": "code",
   "execution_count": 21,
   "id": "b28a0f1e",
   "metadata": {
    "execution": {
     "iopub.execute_input": "2021-08-13T14:41:06.749392Z",
     "iopub.status.busy": "2021-08-13T14:41:06.748377Z",
     "iopub.status.idle": "2021-08-13T14:41:06.760501Z",
     "shell.execute_reply": "2021-08-13T14:41:06.759801Z",
     "shell.execute_reply.started": "2021-08-13T14:30:11.674085Z"
    },
    "papermill": {
     "duration": 0.031696,
     "end_time": "2021-08-13T14:41:06.760640",
     "exception": false,
     "start_time": "2021-08-13T14:41:06.728944",
     "status": "completed"
    },
    "tags": []
   },
   "outputs": [],
   "source": [
    "# Run the code to save predictions in the format used for competition scoring\n",
    "\n",
    "output = pd.DataFrame({'Id': test_data.Id,\n",
    "                       'SalePrice': test_preds})\n",
    "output.to_csv('submission.csv', index=False)"
   ]
  },
  {
   "cell_type": "markdown",
   "id": "8930c339",
   "metadata": {
    "papermill": {
     "duration": 0.013082,
     "end_time": "2021-08-13T14:41:06.787378",
     "exception": false,
     "start_time": "2021-08-13T14:41:06.774296",
     "status": "completed"
    },
    "tags": []
   },
   "source": [
    "# Submit to the competition\n",
    "\n",
    "To test your results, you'll need to join the competition (if you haven't already).  So open a new window by clicking on **[this link](https://www.kaggle.com/c/home-data-for-ml-course)**.  Then click on the **Join Competition** button.\n",
    "\n",
    "![join competition image](https://i.imgur.com/axBzctl.png)\n",
    "\n",
    "Next, follow the instructions below:\n",
    "1. Begin by clicking on the **Save Version** button in the top right corner of the window.  This will generate a pop-up window.  \n",
    "2. Ensure that the **Save and Run All** option is selected, and then click on the **Save** button.\n",
    "3. This generates a window in the bottom left corner of the notebook.  After it has finished running, click on the number to the right of the **Save Version** button.  This pulls up a list of versions on the right of the screen.  Click on the ellipsis **(...)** to the right of the most recent version, and select **Open in Viewer**.  This brings you into view mode of the same page. You will need to scroll down to get back to these instructions.\n",
    "4. Click on the **Output** tab on the right of the screen.  Then, click on the file you would like to submit, and click on the blue **Submit** button to submit your results to the leaderboard.\n",
    "\n",
    "You have now successfully submitted to the competition!\n",
    "\n",
    "If you want to keep working to improve your performance, select the **Edit** button in the top right of the screen. Then you can change your code and repeat the process. There's a lot of room to improve, and you will climb up the leaderboard as you work.\n",
    "\n",
    "\n",
    "# Continue Your Progress\n",
    "There are many ways to improve your model, and **experimenting is a great way to learn at this point.**\n",
    "\n",
    "The best way to improve your model is to add features.  To add more features to the data, revisit the first code cell, and change this line of code to include more column names:\n",
    "```python\n",
    "features = ['LotArea', 'YearBuilt', '1stFlrSF', '2ndFlrSF', 'FullBath', 'BedroomAbvGr', 'TotRmsAbvGrd']\n",
    "```\n",
    "\n",
    "Some features will cause errors because of issues like missing values or non-numeric data types.  Here is a complete list of potential columns that you might like to use, and that won't throw errors:\n",
    "- 'MSSubClass'\n",
    "- 'LotArea'\n",
    "- 'OverallQual' \n",
    "- 'OverallCond' \n",
    "- 'YearBuilt'\n",
    "- 'YearRemodAdd' \n",
    "- '1stFlrSF'\n",
    "- '2ndFlrSF' \n",
    "- 'LowQualFinSF' \n",
    "- 'GrLivArea'\n",
    "- 'FullBath'\n",
    "- 'HalfBath'\n",
    "- 'BedroomAbvGr' \n",
    "- 'KitchenAbvGr' \n",
    "- 'TotRmsAbvGrd' \n",
    "- 'Fireplaces' \n",
    "- 'WoodDeckSF' \n",
    "- 'OpenPorchSF'\n",
    "- 'EnclosedPorch' \n",
    "- '3SsnPorch' \n",
    "- 'ScreenPorch' \n",
    "- 'PoolArea' \n",
    "- 'MiscVal' \n",
    "- 'MoSold' \n",
    "- 'YrSold'\n",
    "\n",
    "Look at the list of columns and think about what might affect home prices.  To learn more about each of these features, take a look at the data description on the **[competition page](https://www.kaggle.com/c/home-data-for-ml-course/data)**.\n",
    "\n",
    "After updating the code cell above that defines the features, re-run all of the code cells to evaluate the model and generate a new submission file.  \n",
    "\n",
    "\n",
    "# What's next?\n",
    "\n",
    "As mentioned above, some of the features will throw an error if you try to use them to train your model.  The **[Intermediate Machine Learning](https://www.kaggle.com/learn/intermediate-machine-learning)** course will teach you how to handle these types of features. You will also learn to use **xgboost**, a technique giving even better accuracy than Random Forest.\n",
    "\n",
    "The **[Pandas](https://kaggle.com/Learn/Pandas)** course will give you the data manipulation skills to quickly go from conceptual idea to implementation in your data science projects. \n",
    "\n",
    "You are also ready for the **[Deep Learning](https://kaggle.com/Learn/intro-to-Deep-Learning)** course, where you will build models with better-than-human level performance at computer vision tasks."
   ]
  },
  {
   "cell_type": "markdown",
   "id": "1aea88f5",
   "metadata": {
    "papermill": {
     "duration": 0.013002,
     "end_time": "2021-08-13T14:41:06.813774",
     "exception": false,
     "start_time": "2021-08-13T14:41:06.800772",
     "status": "completed"
    },
    "tags": []
   },
   "source": [
    "---\n",
    "\n",
    "\n",
    "\n",
    "\n",
    "*Have questions or comments? Visit the [Learn Discussion forum](https://www.kaggle.com/learn-forum/161285) to chat with other Learners.*"
   ]
  },
  {
   "cell_type": "code",
   "execution_count": null,
   "id": "f20cf10c",
   "metadata": {},
   "outputs": [],
   "source": []
  }
 ],
 "metadata": {
  "kernelspec": {
   "display_name": "Python 3",
   "language": "python",
   "name": "python3"
  },
  "language_info": {
   "codemirror_mode": {
    "name": "ipython",
    "version": 3
   },
   "file_extension": ".py",
   "mimetype": "text/x-python",
   "name": "python",
   "nbconvert_exporter": "python",
   "pygments_lexer": "ipython3",
   "version": "3.7.11"
  },
  "papermill": {
   "default_parameters": {},
   "duration": 12.892183,
   "end_time": "2021-08-13T14:41:07.637587",
   "environment_variables": {},
   "exception": null,
   "input_path": "__notebook__.ipynb",
   "output_path": "__notebook__.ipynb",
   "parameters": {},
   "start_time": "2021-08-13T14:40:54.745404",
   "version": "2.3.3"
  }
 },
 "nbformat": 4,
 "nbformat_minor": 5
}
